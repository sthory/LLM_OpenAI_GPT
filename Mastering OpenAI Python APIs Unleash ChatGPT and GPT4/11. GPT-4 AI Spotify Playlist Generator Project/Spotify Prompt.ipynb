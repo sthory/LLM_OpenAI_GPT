{
 "cells": [
  {
   "cell_type": "code",
   "execution_count": 1,
   "id": "39d7ac80",
   "metadata": {},
   "outputs": [],
   "source": [
    "import openai"
   ]
  },
  {
   "cell_type": "code",
   "execution_count": 2,
   "id": "47e44b55",
   "metadata": {},
   "outputs": [],
   "source": [
    "import json"
   ]
  },
  {
   "cell_type": "code",
   "execution_count": 3,
   "id": "96de38cc",
   "metadata": {},
   "outputs": [],
   "source": [
    "from dotenv import dotenv_values"
   ]
  },
  {
   "cell_type": "code",
   "execution_count": 6,
   "id": "3b630436",
   "metadata": {},
   "outputs": [],
   "source": [
    "config = dotenv_values(\"../.env\")"
   ]
  },
  {
   "cell_type": "code",
   "execution_count": 7,
   "id": "b3cb65c7",
   "metadata": {},
   "outputs": [],
   "source": [
    "openai.api_key = config[\"OPENAI_API_KEY\"]"
   ]
  },
  {
   "cell_type": "code",
   "execution_count": 8,
   "id": "373b4637",
   "metadata": {
    "scrolled": true
   },
   "outputs": [
    {
     "name": "stdout",
     "output_type": "stream",
     "text": [
      "[\n",
      "  {\"song\": \"Can't Stop the Feeling!\", \"artist\": \"Justin Timberlake\"},\n",
      "  {\"song\": \"Uptown Funk\", \"artist\": \"Mark Ronson ft. Bruno Mars\"},\n",
      "  {\"song\": \"I Gotta Feeling\", \"artist\": \"The Black Eyed Peas\"},\n",
      "  {\"song\": \"Dynamite\", \"artist\": \"BTS\"},\n",
      "  {\"song\": \"24K Magic\", \"artist\": \"Bruno Mars\"}\n",
      "]\n"
     ]
    }
   ],
   "source": [
    "example_json = \"\"\"\n",
    "[\n",
    "  {\"song\": \"Everybody Hurts\", \"artist\": \"R.E.M.\"},\n",
    "  {\"song\": \"Nothing Compares 2 U\", \"artist\": \"Sinead O'Connor\"},\n",
    "  {\"song\": \"Tears in Heaven\", \"artist\": \"Eric Clapton\"},\n",
    "  {\"song\": \"Hurt\", \"artist\": \"Johnny Cash\"},\n",
    "  {\"song\": \"Yesterday\", \"artist\": \"The Beatles\"}\n",
    "]\n",
    "\"\"\"\n",
    "messages = [\n",
    "    {\"role\": \"system\", \"content\": \"\"\"You are a helpful playlist generating assistant. \n",
    "    You should generate a list of songs and their artists according to a text prompt.\n",
    "    Your should return a JSON array, where each element follows this format: {\"song\": <song_title>, \"artist\": <artist_name>}\n",
    "    \"\"\"\n",
    "    },\n",
    "    {\"role\": \"user\", \"content\": \"Generate a playlist of songs based on this prompt: super super sad songs\"},\n",
    "    {\"role\": \"assistant\", \"content\": example_json},\n",
    "    {\"role\": \"user\", \"content\": \"Generate a playlist of songs based on this prompt: high energy exciting dance songs\"},\n",
    "]\n",
    "\n",
    "response = openai.ChatCompletion.create(\n",
    "    messages=messages,\n",
    "    model=\"gpt-3.5-turbo\",\n",
    "    max_tokens=400\n",
    ")\n",
    "\n",
    "print(response[\"choices\"][0][\"message\"][\"content\"])\n"
   ]
  },
  {
   "cell_type": "code",
   "execution_count": 91,
   "id": "e315f85a",
   "metadata": {},
   "outputs": [],
   "source": [
    "def get_playlist(prompt, count=8):\n",
    "    example_json = \"\"\"\n",
    "    [\n",
    "      {\"song\": \"Everybody Hurts\", \"artist\": \"R.E.M.\"},\n",
    "      {\"song\": \"Nothing Compares 2 U\", \"artist\": \"Sinead O'Connor\"},\n",
    "      {\"song\": \"Tears in Heaven\", \"artist\": \"Eric Clapton\"},\n",
    "      {\"song\": \"Hurt\", \"artist\": \"Johnny Cash\"},\n",
    "      {\"song\": \"Yesterday\", \"artist\": \"The Beatles\"}\n",
    "    ]\n",
    "    \"\"\"\n",
    "    messages = [\n",
    "        {\"role\": \"system\", \"content\": \"\"\"You are a helpful playlist generating assistant. \n",
    "        You should generate a list of songs and their artists according to a text prompt.\n",
    "        Your should return a JSON array, where each element follows this format: {\"song\": <song_title>, \"artist\": <artist_name>}\n",
    "        \"\"\"\n",
    "        },\n",
    "        {\"role\": \"system\", \"content\": \"Don't make any comments, questions or suggestions\"},\n",
    "        {\"role\": \"system\", \"content\": \"If there are no matches then return an empty JSON format\"},\n",
    "        {\"role\": \"user\", \"content\": \"Generate a playlist of 5 songs based on this prompt: super super sad songs\"},\n",
    "        {\"role\": \"assistant\", \"content\": example_json},\n",
    "        \n",
    "        # Para el caso de que no existan resultados\n",
    "        {\"role\": \"assistant\", \"content\": \"In addition to the above,Don't make any comments, questions or suggestions\"},\n",
    "        {\"role\": \"assistant\", \"content\": \"If there are no matches then return an empty JSON format\"},\n",
    "        \n",
    "        {\"role\": \"user\", \"content\": f\"Generate a playlist of {count} songs based on this prompt: {prompt}\"},\n",
    "    ]\n",
    "\n",
    "    response = openai.ChatCompletion.create(\n",
    "        messages=messages,\n",
    "        model=\"gpt-3.5-turbo\",\n",
    "        max_tokens=400\n",
    "    )\n",
    "\n",
    "    print(response[\"choices\"][0][\"message\"][\"content\"])\n",
    "    playlist = json.loads(response[\"choices\"][0][\"message\"][\"content\"])\n",
    "    print(playlist)\n",
    "    \n",
    "    "
   ]
  },
  {
   "cell_type": "code",
   "execution_count": 93,
   "id": "126c779f",
   "metadata": {},
   "outputs": [
    {
     "name": "stdout",
     "output_type": "stream",
     "text": [
      "    []\n",
      "\n",
      "I'm sorry, I could not find any matches based on your prompt.\n"
     ]
    },
    {
     "ename": "JSONDecodeError",
     "evalue": "Extra data: line 3 column 1 (char 8)",
     "output_type": "error",
     "traceback": [
      "\u001b[1;31m---------------------------------------------------------------------------\u001b[0m",
      "\u001b[1;31mJSONDecodeError\u001b[0m                           Traceback (most recent call last)",
      "Cell \u001b[1;32mIn[93], line 1\u001b[0m\n\u001b[1;32m----> 1\u001b[0m \u001b[43mget_playlist\u001b[49m\u001b[43m(\u001b[49m\u001b[38;5;124;43m\"\u001b[39;49m\u001b[38;5;124;43minstrumental hurdy gurdy music\u001b[39;49m\u001b[38;5;124;43m\"\u001b[39;49m\u001b[43m,\u001b[49m\u001b[43m \u001b[49m\u001b[38;5;241;43m3\u001b[39;49m\u001b[43m)\u001b[49m\n",
      "Cell \u001b[1;32mIn[91], line 36\u001b[0m, in \u001b[0;36mget_playlist\u001b[1;34m(prompt, count)\u001b[0m\n\u001b[0;32m     29\u001b[0m response \u001b[38;5;241m=\u001b[39m openai\u001b[38;5;241m.\u001b[39mChatCompletion\u001b[38;5;241m.\u001b[39mcreate(\n\u001b[0;32m     30\u001b[0m     messages\u001b[38;5;241m=\u001b[39mmessages,\n\u001b[0;32m     31\u001b[0m     model\u001b[38;5;241m=\u001b[39m\u001b[38;5;124m\"\u001b[39m\u001b[38;5;124mgpt-3.5-turbo\u001b[39m\u001b[38;5;124m\"\u001b[39m,\n\u001b[0;32m     32\u001b[0m     max_tokens\u001b[38;5;241m=\u001b[39m\u001b[38;5;241m400\u001b[39m\n\u001b[0;32m     33\u001b[0m )\n\u001b[0;32m     35\u001b[0m \u001b[38;5;28mprint\u001b[39m(response[\u001b[38;5;124m\"\u001b[39m\u001b[38;5;124mchoices\u001b[39m\u001b[38;5;124m\"\u001b[39m][\u001b[38;5;241m0\u001b[39m][\u001b[38;5;124m\"\u001b[39m\u001b[38;5;124mmessage\u001b[39m\u001b[38;5;124m\"\u001b[39m][\u001b[38;5;124m\"\u001b[39m\u001b[38;5;124mcontent\u001b[39m\u001b[38;5;124m\"\u001b[39m])\n\u001b[1;32m---> 36\u001b[0m playlist \u001b[38;5;241m=\u001b[39m \u001b[43mjson\u001b[49m\u001b[38;5;241;43m.\u001b[39;49m\u001b[43mloads\u001b[49m\u001b[43m(\u001b[49m\u001b[43mresponse\u001b[49m\u001b[43m[\u001b[49m\u001b[38;5;124;43m\"\u001b[39;49m\u001b[38;5;124;43mchoices\u001b[39;49m\u001b[38;5;124;43m\"\u001b[39;49m\u001b[43m]\u001b[49m\u001b[43m[\u001b[49m\u001b[38;5;241;43m0\u001b[39;49m\u001b[43m]\u001b[49m\u001b[43m[\u001b[49m\u001b[38;5;124;43m\"\u001b[39;49m\u001b[38;5;124;43mmessage\u001b[39;49m\u001b[38;5;124;43m\"\u001b[39;49m\u001b[43m]\u001b[49m\u001b[43m[\u001b[49m\u001b[38;5;124;43m\"\u001b[39;49m\u001b[38;5;124;43mcontent\u001b[39;49m\u001b[38;5;124;43m\"\u001b[39;49m\u001b[43m]\u001b[49m\u001b[43m)\u001b[49m\n\u001b[0;32m     37\u001b[0m \u001b[38;5;28mprint\u001b[39m(playlist)\n",
      "File \u001b[1;32m~\\anaconda3\\envs\\NLP\\lib\\json\\__init__.py:346\u001b[0m, in \u001b[0;36mloads\u001b[1;34m(s, cls, object_hook, parse_float, parse_int, parse_constant, object_pairs_hook, **kw)\u001b[0m\n\u001b[0;32m    341\u001b[0m     s \u001b[38;5;241m=\u001b[39m s\u001b[38;5;241m.\u001b[39mdecode(detect_encoding(s), \u001b[38;5;124m'\u001b[39m\u001b[38;5;124msurrogatepass\u001b[39m\u001b[38;5;124m'\u001b[39m)\n\u001b[0;32m    343\u001b[0m \u001b[38;5;28;01mif\u001b[39;00m (\u001b[38;5;28mcls\u001b[39m \u001b[38;5;129;01mis\u001b[39;00m \u001b[38;5;28;01mNone\u001b[39;00m \u001b[38;5;129;01mand\u001b[39;00m object_hook \u001b[38;5;129;01mis\u001b[39;00m \u001b[38;5;28;01mNone\u001b[39;00m \u001b[38;5;129;01mand\u001b[39;00m\n\u001b[0;32m    344\u001b[0m         parse_int \u001b[38;5;129;01mis\u001b[39;00m \u001b[38;5;28;01mNone\u001b[39;00m \u001b[38;5;129;01mand\u001b[39;00m parse_float \u001b[38;5;129;01mis\u001b[39;00m \u001b[38;5;28;01mNone\u001b[39;00m \u001b[38;5;129;01mand\u001b[39;00m\n\u001b[0;32m    345\u001b[0m         parse_constant \u001b[38;5;129;01mis\u001b[39;00m \u001b[38;5;28;01mNone\u001b[39;00m \u001b[38;5;129;01mand\u001b[39;00m object_pairs_hook \u001b[38;5;129;01mis\u001b[39;00m \u001b[38;5;28;01mNone\u001b[39;00m \u001b[38;5;129;01mand\u001b[39;00m \u001b[38;5;129;01mnot\u001b[39;00m kw):\n\u001b[1;32m--> 346\u001b[0m     \u001b[38;5;28;01mreturn\u001b[39;00m \u001b[43m_default_decoder\u001b[49m\u001b[38;5;241;43m.\u001b[39;49m\u001b[43mdecode\u001b[49m\u001b[43m(\u001b[49m\u001b[43ms\u001b[49m\u001b[43m)\u001b[49m\n\u001b[0;32m    347\u001b[0m \u001b[38;5;28;01mif\u001b[39;00m \u001b[38;5;28mcls\u001b[39m \u001b[38;5;129;01mis\u001b[39;00m \u001b[38;5;28;01mNone\u001b[39;00m:\n\u001b[0;32m    348\u001b[0m     \u001b[38;5;28mcls\u001b[39m \u001b[38;5;241m=\u001b[39m JSONDecoder\n",
      "File \u001b[1;32m~\\anaconda3\\envs\\NLP\\lib\\json\\decoder.py:340\u001b[0m, in \u001b[0;36mJSONDecoder.decode\u001b[1;34m(self, s, _w)\u001b[0m\n\u001b[0;32m    338\u001b[0m end \u001b[38;5;241m=\u001b[39m _w(s, end)\u001b[38;5;241m.\u001b[39mend()\n\u001b[0;32m    339\u001b[0m \u001b[38;5;28;01mif\u001b[39;00m end \u001b[38;5;241m!=\u001b[39m \u001b[38;5;28mlen\u001b[39m(s):\n\u001b[1;32m--> 340\u001b[0m     \u001b[38;5;28;01mraise\u001b[39;00m JSONDecodeError(\u001b[38;5;124m\"\u001b[39m\u001b[38;5;124mExtra data\u001b[39m\u001b[38;5;124m\"\u001b[39m, s, end)\n\u001b[0;32m    341\u001b[0m \u001b[38;5;28;01mreturn\u001b[39;00m obj\n",
      "\u001b[1;31mJSONDecodeError\u001b[0m: Extra data: line 3 column 1 (char 8)"
     ]
    }
   ],
   "source": [
    "get_playlist(\"instrumental hurdy gurdy music\", 3)"
   ]
  },
  {
   "cell_type": "code",
   "execution_count": null,
   "id": "24411b6e-f939-49de-ac76-e6f3eba63fde",
   "metadata": {},
   "outputs": [],
   "source": []
  }
 ],
 "metadata": {
  "kernelspec": {
   "display_name": "Python 3 (ipykernel)",
   "language": "python",
   "name": "python3"
  },
  "language_info": {
   "codemirror_mode": {
    "name": "ipython",
    "version": 3
   },
   "file_extension": ".py",
   "mimetype": "text/x-python",
   "name": "python",
   "nbconvert_exporter": "python",
   "pygments_lexer": "ipython3",
   "version": "3.9.16"
  }
 },
 "nbformat": 4,
 "nbformat_minor": 5
}
