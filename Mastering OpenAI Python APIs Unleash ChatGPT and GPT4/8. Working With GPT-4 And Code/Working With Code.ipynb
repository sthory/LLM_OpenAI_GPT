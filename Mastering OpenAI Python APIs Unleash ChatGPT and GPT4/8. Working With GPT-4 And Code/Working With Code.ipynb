{
 "cells": [
  {
   "cell_type": "code",
   "execution_count": 1,
   "id": "39d7ac80",
   "metadata": {},
   "outputs": [],
   "source": [
    "import openai"
   ]
  },
  {
   "cell_type": "code",
   "execution_count": 2,
   "id": "96de38cc",
   "metadata": {},
   "outputs": [],
   "source": [
    "from dotenv import dotenv_values"
   ]
  },
  {
   "cell_type": "code",
   "execution_count": 3,
   "id": "3b630436",
   "metadata": {},
   "outputs": [],
   "source": [
    "config = dotenv_values(\".env\")"
   ]
  },
  {
   "cell_type": "code",
   "execution_count": 4,
   "id": "b3cb65c7",
   "metadata": {},
   "outputs": [],
   "source": [
    "openai.api_key = config[\"OPENAI_API_KEY\"]"
   ]
  },
  {
   "cell_type": "markdown",
   "id": "84d3efc3",
   "metadata": {},
   "source": [
    "## Asking GPT-4 To Explain Code"
   ]
  },
  {
   "cell_type": "code",
   "execution_count": 5,
   "id": "abbf4824",
   "metadata": {},
   "outputs": [],
   "source": [
    "func = \"\"\"\n",
    "def remove_common_prefix(x, prefix, ws_prefix): \n",
    "    x[\"completion\"] = x[\"completion\"].str[len(prefix) :] \n",
    "    if ws_prefix: \n",
    "        # keep the single whitespace as prefix \n",
    "        x[\"completion\"] = \" \" + x[\"completion\"] \n",
    "return x \n",
    "\"\"\"\n",
    "messages = [\n",
    "    {\"role\":\"system\", \"content\": \"you are a Python explaining assistant\"},\n",
    "    {\"role\": \"user\", \"content\": f\"Explain the following function: {func}\"}\n",
    "]"
   ]
  },
  {
   "cell_type": "code",
   "execution_count": null,
   "id": "00d65a72",
   "metadata": {},
   "outputs": [],
   "source": [
    "res = openai.ChatCompletion.create(\n",
    "    messages=messages,\n",
    "    model=\"gpt-4\"\n",
    ")"
   ]
  },
  {
   "cell_type": "code",
   "execution_count": 9,
   "id": "d60672c9",
   "metadata": {},
   "outputs": [
    {
     "name": "stdout",
     "output_type": "stream",
     "text": [
      "This function `remove_common_prefix` takes three arguments:\n",
      "\n",
      "1. `x`: A dataframe or a dictionary-like data structure containing a key \"completion\" whose value is assumed to be a string, and we need to perform some manipulation on this value.\n",
      "2. `prefix`: A string, representing the common prefix that may exist in the \"completion\" value of the input `x`.\n",
      "3. `ws_prefix`: A boolean, indicating whether or not a whitespace should be kept as a prefix in the \"completion\" value after removing the common prefix.\n",
      "\n",
      "The function does the following:\n",
      "\n",
      "1. It removes the common `prefix` from the \"completion\" value in `x`. This is done using the line `x[\"completion\"] = x[\"completion\"].str[len(prefix):]`. Here, it extracts the substring starting from the character after the length of `prefix` to the end of the string, and assigns this new substring back to `x[\"completion\"]`.\n",
      "\n",
      "2. After the common prefix is removed, it checks if the `ws_prefix` is True or not. If `ws_prefix` is True, it adds a single whitespace as a prefix to the \"completion\" value in `x`. This is done using the line `x[\"completion\"] = \" \" + x[\"completion\"]`.\n",
      "\n",
      "3. Finally, the function returns the modified `x` containing the \"completion\" value after removing the common prefix and adding a whitespace if `ws_prefix` is True.\n",
      "\n",
      "In summary, this function modifies the \"completion\" value by removing a specific common prefix and adds a whitespace prefix if specified.\n"
     ]
    }
   ],
   "source": [
    "print(res[\"choices\"][0][\"message\"][\"content\"])"
   ]
  },
  {
   "cell_type": "markdown",
   "id": "39d5e151",
   "metadata": {},
   "source": [
    "## Asking GPT-4 To Calculate Time Complexity"
   ]
  },
  {
   "cell_type": "code",
   "execution_count": 14,
   "id": "48145ca1",
   "metadata": {},
   "outputs": [],
   "source": [
    "bubble_sort = \"\"\"\n",
    "def sort(array):    \n",
    "  for i in range(len(array)):\n",
    "    for j in range(0, len(array) - i - 1):\n",
    "      if array[j] > array[j + 1]:\n",
    "        temp = array[j]\n",
    "        array[j] = array[j+1]\n",
    "        array[j+1] = temp\n",
    "\"\"\""
   ]
  },
  {
   "cell_type": "code",
   "execution_count": 17,
   "id": "0301aaef",
   "metadata": {},
   "outputs": [],
   "source": [
    "merge_sort = \"\"\"\n",
    "def partition(array, low, high):\n",
    "    pivot = array[high]\n",
    "    i = low - 1\n",
    " \n",
    "    for j in range(low, high):\n",
    "        if array[j] <= pivot:\n",
    "            i = i + 1\n",
    "            (array[i], array[j]) = (array[j], array[i])\n",
    "    (array[i + 1], array[high]) = (array[high], array[i + 1])\n",
    "    return i + 1\n",
    "  \n",
    "def sort(array, low, high):\n",
    "    if low < high:\n",
    "        pi = partition(array, low, high)\n",
    "        sort(array, low, pi - 1)\n",
    "        sort(array, pi + 1, high)\n",
    "\"\"\""
   ]
  },
  {
   "cell_type": "code",
   "execution_count": 18,
   "id": "8b57e0f3",
   "metadata": {},
   "outputs": [],
   "source": [
    "messages = [\n",
    "    {\"role\": \"user\", \"content\": f\"What is the time complexity of the following 'sort' function: {merge_sort}\"}\n",
    "]"
   ]
  }
 ],
 "metadata": {
  "kernelspec": {
   "display_name": "Python 3",
   "language": "python",
   "name": "python3"
  },
  "language_info": {
   "codemirror_mode": {
    "name": "ipython",
    "version": 3
   },
   "file_extension": ".py",
   "mimetype": "text/x-python",
   "name": "python",
   "nbconvert_exporter": "python",
   "pygments_lexer": "ipython3",
   "version": "3.8.8"
  }
 },
 "nbformat": 4,
 "nbformat_minor": 5
}
