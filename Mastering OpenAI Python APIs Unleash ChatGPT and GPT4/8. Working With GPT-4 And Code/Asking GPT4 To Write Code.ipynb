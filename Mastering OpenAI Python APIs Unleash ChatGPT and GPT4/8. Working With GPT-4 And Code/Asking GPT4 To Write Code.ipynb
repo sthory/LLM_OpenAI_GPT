{
 "cells": [
  {
   "cell_type": "code",
   "execution_count": 1,
   "id": "39d7ac80",
   "metadata": {},
   "outputs": [],
   "source": [
    "import openai"
   ]
  },
  {
   "cell_type": "code",
   "execution_count": 2,
   "id": "96de38cc",
   "metadata": {},
   "outputs": [],
   "source": [
    "from dotenv import dotenv_values"
   ]
  },
  {
   "cell_type": "code",
   "execution_count": 5,
   "id": "3b630436",
   "metadata": {},
   "outputs": [],
   "source": [
    "config = dotenv_values(\"../.env\")"
   ]
  },
  {
   "cell_type": "code",
   "execution_count": 6,
   "id": "b3cb65c7",
   "metadata": {},
   "outputs": [],
   "source": [
    "openai.api_key = config[\"OPENAI_API_KEY\"]"
   ]
  },
  {
   "cell_type": "markdown",
   "id": "39d5e151",
   "metadata": {},
   "source": [
    "## Asking GPT-4 To Write Code"
   ]
  },
  {
   "cell_type": "code",
   "execution_count": 7,
   "id": "bb7ffb05",
   "metadata": {},
   "outputs": [],
   "source": [
    "messages = [\n",
    "    {\"role\": \"user\", \"content\": f\"Write a Python function that accepts an RGB color in the format 'rgb(85,145,0)' and returns the corresponding HSL color in the format 'hsl(85 100% 28%)'\"}\n",
    "]"
   ]
  },
  {
   "cell_type": "code",
   "execution_count": 10,
   "id": "9e7c992a",
   "metadata": {},
   "outputs": [
    {
     "name": "stdout",
     "output_type": "stream",
     "text": [
      "To convert an RGB color to HSL, you can use the following function:\n",
      "\n",
      "```python\n",
      "def rgb_to_hsl(rgb_str):\n",
      "    import colorsys\n",
      "    \n",
      "    # Extract the RGB values from the string.\n",
      "    r, g, b = [int(x) for x in rgb_str[4:-1].split(',')]\n",
      "\n",
      "    # Convert RGB to float values ranging from 0 to 1.\n",
      "    r /= 255.0\n",
      "    g /= 255.0\n",
      "    b /= 255.0\n",
      "\n",
      "    # Convert RGB to HSL values.\n",
      "    h, l, s = colorsys.rgb_to_hls(r, g, b)\n",
      "\n",
      "    # Convert HSL to the proper format.\n",
      "    h = int(h * 360)\n",
      "    s = int(s * 100)\n",
      "    l = int(l * 100)\n",
      "\n",
      "    # Return the resulting HSL string.\n",
      "    return f'hsl({h} {s}% {l}%)'\n",
      "\n",
      "rgb_color = \"rgb(85,145,0)\"\n",
      "hsl_color = rgb_to_hsl(rgb_color)\n",
      "print(hsl_color)\n",
      "```\n",
      "\n",
      "This function first extracts the RGB values from the input string, then converts them to float values in the range of 0 to 1, and finally uses Python's `colorsys` module to convert the RGB color to HSL. The resulting HSL values are then formatted back into a string in the required format.\n"
     ]
    }
   ],
   "source": [
    "res = openai.ChatCompletion.create(\n",
    "    messages=messages,\n",
    "    model=\"gpt-4\"\n",
    ")\n",
    "print(res[\"choices\"][0][\"message\"][\"content\"])"
   ]
  },
  {
   "cell_type": "code",
   "execution_count": 7,
   "id": "e98e5b48",
   "metadata": {},
   "outputs": [],
   "source": [
    "def rgb_to_hsl(r, g, b):\n",
    "    r /= 255.0\n",
    "    g /= 255.0\n",
    "    b /= 255.0\n",
    "    max_value = max(r, g, b)\n",
    "    min_value = min(r, g, b)\n",
    "    difference = max_value-min_value\n",
    "\n",
    "    if max_value == min_value:\n",
    "        h = 0\n",
    "    elif max_value == r:\n",
    "        h = (60 * ((g-b)/difference) + 360) % 360\n",
    "    elif max_value == g:\n",
    "        h = (60 * ((b-r)/difference) + 120) % 360\n",
    "    elif max_value == b:\n",
    "        h = (60 * ((r-g)/difference) + 240) % 360\n",
    "\n",
    "    l = (max_value + min_value) / 2\n",
    "\n",
    "    if max_value == min_value:\n",
    "        s = 0\n",
    "    elif l <= 0.5:\n",
    "        s = difference / (max_value + min_value)\n",
    "    else:\n",
    "        s = difference / (2 - max_value - min_value)\n",
    "\n",
    "    h = round(h, 2)\n",
    "    s = round(s * 100, 2)\n",
    "    l = round(l * 100, 2)\n",
    "\n",
    "    return h, s, l"
   ]
  },
  {
   "cell_type": "code",
   "execution_count": 8,
   "id": "e071bed4",
   "metadata": {},
   "outputs": [
    {
     "data": {
      "text/plain": [
       "(84.83, 100.0, 28.43)"
      ]
     },
     "execution_count": 8,
     "metadata": {},
     "output_type": "execute_result"
    }
   ],
   "source": [
    "rgb = \"rgb(85,145,0)\"\n",
    "hsl(50 80% 40%)"
   ]
  },
  {
   "cell_type": "code",
   "execution_count": 12,
   "id": "ef2613fa",
   "metadata": {},
   "outputs": [],
   "source": [
    "def rgb_to_hsl2(rgb_str):\n",
    "    import colorsys\n",
    "    \n",
    "    # Extract the RGB values from the string.\n",
    "    r, g, b = [int(x) for x in rgb_str[4:-1].split(',')]\n",
    "\n",
    "    # Convert RGB to float values ranging from 0 to 1.\n",
    "    r /= 255.0\n",
    "    g /= 255.0\n",
    "    b /= 255.0\n",
    "\n",
    "    # Convert RGB to HSL values.\n",
    "    h, l, s = colorsys.rgb_to_hls(r, g, b)\n",
    "\n",
    "    # Convert HSL to the proper format.\n",
    "    h = int(h * 360)\n",
    "    s = int(s * 100)\n",
    "    l = int(l * 100)\n",
    "\n",
    "    # Return the resulting HSL string.\n",
    "    return f'hsl({h} {s}% {l}%)'"
   ]
  },
  {
   "cell_type": "code",
   "execution_count": 13,
   "id": "8ef9feca",
   "metadata": {},
   "outputs": [
    {
     "data": {
      "text/plain": [
       "'hsl(84 100% 28%)'"
      ]
     },
     "execution_count": 13,
     "metadata": {},
     "output_type": "execute_result"
    }
   ],
   "source": [
    "rgb_to_hsl2(\"rgb(85,145,0)\")"
   ]
  }
 ],
 "metadata": {
  "kernelspec": {
   "display_name": "Python 3 (ipykernel)",
   "language": "python",
   "name": "python3"
  },
  "language_info": {
   "codemirror_mode": {
    "name": "ipython",
    "version": 3
   },
   "file_extension": ".py",
   "mimetype": "text/x-python",
   "name": "python",
   "nbconvert_exporter": "python",
   "pygments_lexer": "ipython3",
   "version": "3.9.16"
  }
 },
 "nbformat": 4,
 "nbformat_minor": 5
}
