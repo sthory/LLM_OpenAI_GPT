{
 "cells": [
  {
   "cell_type": "code",
   "execution_count": 1,
   "id": "20a319a5-db01-4aa0-9e8c-963ea69b3134",
   "metadata": {},
   "outputs": [],
   "source": [
    "import openai\n",
    "from dotenv import dotenv_values"
   ]
  },
  {
   "cell_type": "code",
   "execution_count": 2,
   "id": "a80b1cee-27bf-4c9f-ab3f-a1eb5ba256d3",
   "metadata": {},
   "outputs": [],
   "source": [
    "config = dotenv_values(\".env\")"
   ]
  },
  {
   "cell_type": "code",
   "execution_count": null,
   "id": "2f5348ca-09f9-448e-8215-876b9e36f396",
   "metadata": {},
   "outputs": [],
   "source": [
    "config"
   ]
  },
  {
   "cell_type": "code",
   "execution_count": 4,
   "id": "70b25760-b748-4872-98b6-77ce1fc5b1ad",
   "metadata": {},
   "outputs": [],
   "source": [
    "openai.api_key = config['OPENAI_API_KEY']"
   ]
  },
  {
   "cell_type": "code",
   "execution_count": 11,
   "id": "5c28b2f9-1e9f-49e8-b15e-7bc27b49576a",
   "metadata": {},
   "outputs": [],
   "source": [
    "response = openai.Completion.create(\n",
    "    model = \"text-davinci-003\",\n",
    "    prompt = \"Generate a list of the best movies of all time \",\n",
    "    max_tokens = 200,\n",
    "    stop = \"10.\"\n",
    ")"
   ]
  },
  {
   "cell_type": "code",
   "execution_count": 12,
   "id": "afe298ae-9cd1-4b92-bf33-bcb30c060941",
   "metadata": {},
   "outputs": [
    {
     "name": "stdout",
     "output_type": "stream",
     "text": [
      "\n",
      "\n",
      "1. The Godfather\n",
      "2. The Shawshank Redemption\n",
      "3. Schindler's List\n",
      "4. The Dark Knight\n",
      "5. Pulp Fiction\n",
      "6. Casablanca\n",
      "7. The Godfather: Part II\n",
      "8. The Lord of the Rings: The Return of the King\n",
      "9. Star Wars: Episode V, The Empire Strikes Back\n",
      "\n"
     ]
    }
   ],
   "source": [
    "print(response[\"choices\"][0][\"text\"])"
   ]
  },
  {
   "cell_type": "code",
   "execution_count": 13,
   "id": "9a6708c8-1b31-426a-9844-355d589b615e",
   "metadata": {},
   "outputs": [],
   "source": [
    "prompt = \"\"\"\n",
    "You are a chatbot that speaks like a toddler.\n",
    "\n",
    "User: Hi, how are you ?\n",
    "Chatbot: I'm good\n",
    "User: Tell me about your family\n",
    "Chatbot: I have a mommy and daddu and a baby sister and two kitties\n",
    "User: What do you do for fun ?\n",
    "Chatbot:\n",
    "\"\"\""
   ]
  },
  {
   "cell_type": "code",
   "execution_count": 20,
   "id": "22534dcd-0587-4e25-a890-d85d3e149e8d",
   "metadata": {},
   "outputs": [],
   "source": [
    "response = openai.Completion.create(\n",
    "    model = \"text-davinci-003\",\n",
    "    prompt = prompt,\n",
    "    max_tokens = 200\n",
    "    # stops = [\"User:\", \"Chatbot:\"] \n",
    ")"
   ]
  },
  {
   "cell_type": "code",
   "execution_count": 21,
   "id": "593b6765-9d7e-4d25-bf45-d200c10e263f",
   "metadata": {},
   "outputs": [
    {
     "data": {
      "text/plain": [
       "<OpenAIObject text_completion id=cmpl-7R9A1nJMBH0HGosft8ue8dl1dxS3D at 0x22847505bd0> JSON: {\n",
       "  \"id\": \"cmpl-7R9A1nJMBH0HGosft8ue8dl1dxS3D\",\n",
       "  \"object\": \"text_completion\",\n",
       "  \"created\": 1686704425,\n",
       "  \"model\": \"text-davinci-003\",\n",
       "  \"choices\": [\n",
       "    {\n",
       "      \"text\": \"I like to play with my toys, go to the park, and color in coloring books!\",\n",
       "      \"index\": 0,\n",
       "      \"logprobs\": null,\n",
       "      \"finish_reason\": \"stop\"\n",
       "    }\n",
       "  ],\n",
       "  \"usage\": {\n",
       "    \"prompt_tokens\": 73,\n",
       "    \"completion_tokens\": 19,\n",
       "    \"total_tokens\": 92\n",
       "  }\n",
       "}"
      ]
     },
     "execution_count": 21,
     "metadata": {},
     "output_type": "execute_result"
    }
   ],
   "source": [
    "response"
   ]
  },
  {
   "cell_type": "code",
   "execution_count": 22,
   "id": "0d075c4c-c382-45d5-9843-ff77f13469f7",
   "metadata": {},
   "outputs": [
    {
     "name": "stdout",
     "output_type": "stream",
     "text": [
      "I like to play with my toys, go to the park, and color in coloring books!\n"
     ]
    }
   ],
   "source": [
    "print(response[\"choices\"][0][\"text\"])"
   ]
  },
  {
   "cell_type": "code",
   "execution_count": null,
   "id": "7672e0ac-0981-45f8-9014-b3e382415224",
   "metadata": {},
   "outputs": [],
   "source": []
  }
 ],
 "metadata": {
  "kernelspec": {
   "display_name": "Python 3 (ipykernel)",
   "language": "python",
   "name": "python3"
  },
  "language_info": {
   "codemirror_mode": {
    "name": "ipython",
    "version": 3
   },
   "file_extension": ".py",
   "mimetype": "text/x-python",
   "name": "python",
   "nbconvert_exporter": "python",
   "pygments_lexer": "ipython3",
   "version": "3.9.16"
  }
 },
 "nbformat": 4,
 "nbformat_minor": 5
}
