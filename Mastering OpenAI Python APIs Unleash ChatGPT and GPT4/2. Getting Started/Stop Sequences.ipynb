{
 "cells": [
  {
   "cell_type": "code",
   "execution_count": 1,
   "id": "20a319a5-db01-4aa0-9e8c-963ea69b3134",
   "metadata": {},
   "outputs": [],
   "source": [
    "import openai\n",
    "from dotenv import dotenv_values"
   ]
  },
  {
   "cell_type": "code",
   "execution_count": 2,
   "id": "a80b1cee-27bf-4c9f-ab3f-a1eb5ba256d3",
   "metadata": {},
   "outputs": [],
   "source": [
    "config = dotenv_values(\".env\")"
   ]
  },
  {
   "cell_type": "code",
   "execution_count": 3,
   "id": "70b25760-b748-4872-98b6-77ce1fc5b1ad",
   "metadata": {},
   "outputs": [],
   "source": [
    "openai.api_key = config['OPENAI_API_KEY']"
   ]
  },
  {
   "cell_type": "code",
   "execution_count": 7,
   "id": "5c28b2f9-1e9f-49e8-b15e-7bc27b49576a",
   "metadata": {},
   "outputs": [],
   "source": [
    "response = openai.Completion.create(\n",
    "    model = \"text-davinci-003\",\n",
    "    prompt = \"write a poem\",\n",
    "    max_tokens = 100,\n",
    "    n = 3 # Cuantas respuestas se quiere\n",
    ")"
   ]
  },
  {
   "cell_type": "code",
   "execution_count": 8,
   "id": "afe298ae-9cd1-4b92-bf33-bcb30c060941",
   "metadata": {},
   "outputs": [
    {
     "data": {
      "text/plain": [
       "<OpenAIObject text_completion id=cmpl-7R9SDKavayYyP8MEPwuBooCmwrOmS at 0x29375ba0860> JSON: {\n",
       "  \"id\": \"cmpl-7R9SDKavayYyP8MEPwuBooCmwrOmS\",\n",
       "  \"object\": \"text_completion\",\n",
       "  \"created\": 1686705553,\n",
       "  \"model\": \"text-davinci-003\",\n",
       "  \"choices\": [\n",
       "    {\n",
       "      \"text\": \"\\n\\nWe see the stars and wonder why\\nLying in the night sky so high\\nJust because we can't always feel their spark\\nDoesn't mean they don't have a part\\n\\nTwinkling and bright, so far away\\nThey glimmer and glitter the night away\\nOur arms are not long enough to reach\\nBut we can imagine them beyond our reach\\n\\nTheir beauty fills our hearts with joy\\nWe watch them rise and come asleep to their coy\\nWe can\",\n",
       "      \"index\": 0,\n",
       "      \"logprobs\": null,\n",
       "      \"finish_reason\": \"length\"\n",
       "    },\n",
       "    {\n",
       "      \"text\": \"\\n\\nMy heart aches for what has passed before\\nThe moments fleeting, with nothing more\\nNo matter how hard I try to take them back\\nThe hands of time refuse to slack\\n\\nThe pain of loss weighs heavy on my chest\\nAn unbearable sorrow, I can't repress\\nA reminder that those days have all gone\\nMy happy memories, all but withdrawn\\n\\nBut then I remember what still remains\\nA beautiful future, that still sustains\\nThat no matter what life\",\n",
       "      \"index\": 1,\n",
       "      \"logprobs\": null,\n",
       "      \"finish_reason\": \"length\"\n",
       "    },\n",
       "    {\n",
       "      \"text\": \"\\n\\nDeep in the night, while the world is still\\nThe stars and moon they shine oh so bright\\nThe silent night like a pleasant smell\\nBrings peace and joy to us all\\n\\nThe birds chirp their songs melodious\\nA sweet gaiety and love so spacious\\nThis peace and serenity all around\\nLets us sleep without a sound\\n\\nWrapped in silence, I feel so safe\\nThe night is my blanket and the stars my lace\\n\",\n",
       "      \"index\": 2,\n",
       "      \"logprobs\": null,\n",
       "      \"finish_reason\": \"length\"\n",
       "    }\n",
       "  ],\n",
       "  \"usage\": {\n",
       "    \"prompt_tokens\": 3,\n",
       "    \"completion_tokens\": 300,\n",
       "    \"total_tokens\": 303\n",
       "  }\n",
       "}"
      ]
     },
     "execution_count": 8,
     "metadata": {},
     "output_type": "execute_result"
    }
   ],
   "source": [
    "response"
   ]
  },
  {
   "cell_type": "code",
   "execution_count": 9,
   "id": "7672e0ac-0981-45f8-9014-b3e382415224",
   "metadata": {},
   "outputs": [],
   "source": [
    "response = openai.Completion.create(\n",
    "    model = \"text-davinci-003\",\n",
    "    prompt = \"What is the tallest building in the world ?\",\n",
    "    max_tokens = 100,\n",
    "    echo=True # Devuelve también la pregunta, NO LO COBRAN ADICIONAL\n",
    ")"
   ]
  },
  {
   "cell_type": "code",
   "execution_count": 10,
   "id": "144f6117-27dd-4a86-927a-e9d307314aea",
   "metadata": {},
   "outputs": [
    {
     "name": "stdout",
     "output_type": "stream",
     "text": [
      "What is the tallest building in the world ?\n",
      "\n",
      "The tallest building in the world is the Burj Khalifa, located in Dubai, United Arab Emirates. It stands at 829.8 metres (2,722 feet) tall.\n"
     ]
    }
   ],
   "source": [
    "print(response[\"choices\"][0][\"text\"])"
   ]
  },
  {
   "cell_type": "code",
   "execution_count": null,
   "id": "c80a371f-a2af-446c-9b2b-0b12faa9ad00",
   "metadata": {},
   "outputs": [],
   "source": []
  }
 ],
 "metadata": {
  "kernelspec": {
   "display_name": "Python 3 (ipykernel)",
   "language": "python",
   "name": "python3"
  },
  "language_info": {
   "codemirror_mode": {
    "name": "ipython",
    "version": 3
   },
   "file_extension": ".py",
   "mimetype": "text/x-python",
   "name": "python",
   "nbconvert_exporter": "python",
   "pygments_lexer": "ipython3",
   "version": "3.9.16"
  }
 },
 "nbformat": 4,
 "nbformat_minor": 5
}
