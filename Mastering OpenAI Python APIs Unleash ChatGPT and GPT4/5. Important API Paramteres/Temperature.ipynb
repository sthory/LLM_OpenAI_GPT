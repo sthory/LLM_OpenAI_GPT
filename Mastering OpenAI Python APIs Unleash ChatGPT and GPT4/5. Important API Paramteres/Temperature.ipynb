{
 "cells": [
  {
   "cell_type": "code",
   "execution_count": 1,
   "id": "39d7ac80",
   "metadata": {},
   "outputs": [],
   "source": [
    "import openai"
   ]
  },
  {
   "cell_type": "code",
   "execution_count": 2,
   "id": "96de38cc",
   "metadata": {},
   "outputs": [],
   "source": [
    "from dotenv import dotenv_values"
   ]
  },
  {
   "cell_type": "code",
   "execution_count": 7,
   "id": "3b630436",
   "metadata": {},
   "outputs": [],
   "source": [
    "config = dotenv_values(\"..\\.env\")"
   ]
  },
  {
   "cell_type": "code",
   "execution_count": 8,
   "id": "b3cb65c7",
   "metadata": {},
   "outputs": [],
   "source": [
    "openai.api_key = config[\"OPENAI_API_KEY\"]"
   ]
  },
  {
   "cell_type": "code",
   "execution_count": 9,
   "id": "bb64e146",
   "metadata": {},
   "outputs": [
    {
     "data": {
      "text/plain": [
       "<OpenAIObject text_completion id=cmpl-7TDOlWWgdxO1gCy959eWK8k1FCuy4 at 0x1b8d25df5e0> JSON: {\n",
       "  \"id\": \"cmpl-7TDOlWWgdxO1gCy959eWK8k1FCuy4\",\n",
       "  \"object\": \"text_completion\",\n",
       "  \"created\": 1687197371,\n",
       "  \"model\": \"text-davinci-003\",\n",
       "  \"choices\": [\n",
       "    {\n",
       "      \"text\": \"\\n\\nOnce upon a time, there was a young girl named Sarah who lived in a small village. She was a kind and gentle soul, and she was loved by all who knew her.\\n\\nOne day, Sarah decided to take a walk in the nearby forest. As she walked, she noticed a small, white rabbit hopping along the path. She followed the rabbit, and soon found herself in a magical clearing.\\n\\nIn the center of the clearing was a large, old tree.\",\n",
       "      \"index\": 0,\n",
       "      \"logprobs\": null,\n",
       "      \"finish_reason\": \"length\"\n",
       "    }\n",
       "  ],\n",
       "  \"usage\": {\n",
       "    \"prompt_tokens\": 4,\n",
       "    \"completion_tokens\": 100,\n",
       "    \"total_tokens\": 104\n",
       "  }\n",
       "}"
      ]
     },
     "execution_count": 9,
     "metadata": {},
     "output_type": "execute_result"
    }
   ],
   "source": [
    "openai.Completion.create(\n",
    "    model='text-davinci-003',\n",
    "    prompt='tell me a story',\n",
    "    max_tokens=100,\n",
    "    temperature=0\n",
    ")"
   ]
  },
  {
   "cell_type": "code",
   "execution_count": 10,
   "id": "fb1721fa",
   "metadata": {},
   "outputs": [
    {
     "data": {
      "text/plain": [
       "<OpenAIObject text_completion id=cmpl-7TDOvm46JOcb7WhefVR9x8nmyTorg at 0x1b8d2618e00> JSON: {\n",
       "  \"id\": \"cmpl-7TDOvm46JOcb7WhefVR9x8nmyTorg\",\n",
       "  \"object\": \"text_completion\",\n",
       "  \"created\": 1687197381,\n",
       "  \"model\": \"text-davinci-003\",\n",
       "  \"choices\": [\n",
       "    {\n",
       "      \"text\": \"\\ndog. Dogs provide loyal companionship with lots of love. They're friendly, smart and playful. Generally, they bring happiness and joy to a household, and seeing them running around with enthusiasm can give a person something to be happy about.\",\n",
       "      \"index\": 0,\n",
       "      \"logprobs\": null,\n",
       "      \"finish_reason\": \"stop\"\n",
       "    }\n",
       "  ],\n",
       "  \"usage\": {\n",
       "    \"prompt_tokens\": 6,\n",
       "    \"completion_tokens\": 49,\n",
       "    \"total_tokens\": 55\n",
       "  }\n",
       "}"
      ]
     },
     "execution_count": 10,
     "metadata": {},
     "output_type": "execute_result"
    }
   ],
   "source": [
    "openai.Completion.create(\n",
    "    model='text-davinci-003',\n",
    "    prompt='My favorite animal is a ',\n",
    "    max_tokens=100,\n",
    "    temperature=1.3\n",
    ")"
   ]
  },
  {
   "cell_type": "code",
   "execution_count": 11,
   "id": "21332eb6",
   "metadata": {},
   "outputs": [],
   "source": [
    "import textwrap"
   ]
  },
  {
   "cell_type": "code",
   "execution_count": 12,
   "id": "def7a5ab",
   "metadata": {},
   "outputs": [],
   "source": [
    "def nice_print(dictionary):\n",
    "    # Setting -2 here will cause the model to repeat the same tokens over and over. Often, it will repeat the newline character ad infinitum.\n",
    "    for key, value in dictionary.items():\n",
    "        wrapped_text = \"\\n\".join(textwrap.wrap(value, width=120))\n",
    "        print(f\"{key}:\")\n",
    "        print(wrapped_text)\n",
    "        print(\"=\" * 120)"
   ]
  },
  {
   "cell_type": "code",
   "execution_count": 14,
   "id": "5785b8c4",
   "metadata": {},
   "outputs": [
    {
     "name": "stdout",
     "output_type": "stream",
     "text": [
      "Temperature 0:\n",
      "My favorite food is pizza. I love the combination of the doughy crust, the tangy tomato sauce, and the melty cheese. I\n",
      "also like to add different toppings like pepperoni, mushrooms, and olives. Pizza is a great meal for any occasion,\n",
      "whether it's a casual night in or a special celebration.\n",
      "========================================================================================================================\n",
      "Temperature 0.5:\n",
      "My favorite food is pizza. I love the combination of the crunchy crust, the slightly sweet and tangy tomato sauce, and\n",
      "the gooey cheese. It's a classic food that can be enjoyed in so many different ways. You can top it with your favorite\n",
      "vegetables, meats, or cheeses, and you can even make it with a variety of crusts, like whole wheat or\n",
      "========================================================================================================================\n",
      "Temperature 1:\n",
      "My favorite food is  pizza!\n",
      "========================================================================================================================\n",
      "Temperature 1.5:\n",
      "My favorite food is Italian food. I particularly love lasagna, pizza, gnocchi, rigatoni, and bruschetta.  I especially\n",
      "like to sample antipasto platters and local Italian specialties wherever I travel. Eating Italian is a massage for my\n",
      "senses!\n",
      "========================================================================================================================\n",
      "Temperature 2:\n",
      "My favorite food is hummus. Hummus is not only delicious, but also really healthy. It's made from chickpeas that met up\n",
      "seed stems feel so fragile package is minimally ( m have benefit intake nutritious chick hands appears alongside main\n",
      "line carbohydrates olive also ) should vitamins falls metabolism happen region causing including amazing dream to\n",
      "achieve recover Hummus you absorption lot been made phosphorus whole particles aim for\n",
      "========================================================================================================================\n"
     ]
    }
   ],
   "source": [
    "nice_print(\n",
    "    {\n",
    "        f\"Temperature {temperature}\": openai.Completion.create(model=\"text-davinci-003\", prompt=\"\"\"My favorite food is\"\"\".strip(), max_tokens=75, echo=True, temperature=temperature)\n",
    "        .choices[0][\"text\"]\n",
    "        .strip()\n",
    "        for temperature in [0, 0.5, 1, 1.5, 2]\n",
    "    }\n",
    ")"
   ]
  },
  {
   "cell_type": "code",
   "execution_count": null,
   "id": "ca995171",
   "metadata": {},
   "outputs": [],
   "source": []
  }
 ],
 "metadata": {
  "kernelspec": {
   "display_name": "Python 3 (ipykernel)",
   "language": "python",
   "name": "python3"
  },
  "language_info": {
   "codemirror_mode": {
    "name": "ipython",
    "version": 3
   },
   "file_extension": ".py",
   "mimetype": "text/x-python",
   "name": "python",
   "nbconvert_exporter": "python",
   "pygments_lexer": "ipython3",
   "version": "3.9.16"
  }
 },
 "nbformat": 4,
 "nbformat_minor": 5
}
