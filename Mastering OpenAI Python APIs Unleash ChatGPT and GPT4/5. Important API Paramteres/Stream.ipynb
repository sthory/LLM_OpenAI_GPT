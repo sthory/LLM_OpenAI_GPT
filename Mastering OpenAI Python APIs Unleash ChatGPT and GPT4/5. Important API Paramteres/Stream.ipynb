{
 "cells": [
  {
   "cell_type": "code",
   "execution_count": 1,
   "id": "39d7ac80",
   "metadata": {},
   "outputs": [],
   "source": [
    "import openai"
   ]
  },
  {
   "cell_type": "code",
   "execution_count": 2,
   "id": "96de38cc",
   "metadata": {},
   "outputs": [],
   "source": [
    "from dotenv import dotenv_values"
   ]
  },
  {
   "cell_type": "code",
   "execution_count": 3,
   "id": "3b630436",
   "metadata": {},
   "outputs": [],
   "source": [
    "config = dotenv_values(\"..//.env\")"
   ]
  },
  {
   "cell_type": "code",
   "execution_count": 4,
   "id": "b3cb65c7",
   "metadata": {},
   "outputs": [],
   "source": [
    "openai.api_key = config[\"OPENAI_API_KEY\"]"
   ]
  },
  {
   "cell_type": "code",
   "execution_count": 7,
   "id": "ec3e0d35",
   "metadata": {},
   "outputs": [
    {
     "name": "stdout",
     "output_type": "stream",
     "text": [
      "\n",
      "\n",
      "As the morning fog curls off the ground\n",
      "On the drive to work its an eerie sound\n",
      "Fantastical shapes take hold in the morn\n",
      "A result of the heavy morning fog in the dawn\n",
      "\n",
      "The sun will soon rise and shed some light\n",
      "But for now, the morning remains so dark and tight\n",
      "Fog horns sound out to pierce the air\n",
      "Sounds like a warning of some danger out there\n",
      "\n",
      "The road ahead is barely visible\n",
      "Like the path our future might be\n",
      "Inching along with headlamps on\n",
      "We navigate the unknown\n",
      "\n",
      "Where will this foggy morning lead us\n",
      "On this drive of some suspense\n",
      "Though a bit mysterious and daunting at start\n",
      "We reach our destination in the end."
     ]
    }
   ],
   "source": [
    "for data in openai.Completion.create(\n",
    "    model=\"text-davinci-003\",\n",
    "    prompt=\"write me a poem about foggy morning commutes\",\n",
    "    max_tokens=300,\n",
    "    stream=True\n",
    "):\n",
    "    print(data.choices[0].text, end=\"\", flush=True)"
   ]
  },
  {
   "cell_type": "code",
   "execution_count": null,
   "id": "c20d3f1c-85cb-462b-99f5-545c973422a9",
   "metadata": {},
   "outputs": [],
   "source": []
  }
 ],
 "metadata": {
  "kernelspec": {
   "display_name": "Python 3 (ipykernel)",
   "language": "python",
   "name": "python3"
  },
  "language_info": {
   "codemirror_mode": {
    "name": "ipython",
    "version": 3
   },
   "file_extension": ".py",
   "mimetype": "text/x-python",
   "name": "python",
   "nbconvert_exporter": "python",
   "pygments_lexer": "ipython3",
   "version": "3.9.16"
  }
 },
 "nbformat": 4,
 "nbformat_minor": 5
}
